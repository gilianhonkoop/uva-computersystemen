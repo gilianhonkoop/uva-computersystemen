{
 "cells": [
  {
   "cell_type": "code",
   "execution_count": 23,
   "metadata": {},
   "outputs": [
    {
     "name": "stdout",
     "output_type": "stream",
     "text": [
      "0.00762164700000012\n"
     ]
    }
   ],
   "source": [
    "import time\n",
    "\n",
    "\n",
    "s = (\"Hello World!! IEWFContrary to popular belief, Lorem Ipsum is not simply random text. It has roots in\"\n",
    "\"a piece of classical Latin literature from 45 BC, making it over 2000 years old. Richard McClintock, \"\n",
    "\"a Latin professor at Hampden-Sydney College in Virginia, looked up one of the more obscure Latin words,\"\n",
    "\" consectetur, from a Lorem Ipsum passage, and going through the cites of the word in classical literature,\"\n",
    "\"discovered the undoubtable source. Lorem Ipsum comes from sections 1.10.32 and 1.10.33 of de Finibus Bonorum\"\n",
    "\"et Malorum (The Extremes of Good and Evil) by Cicero, written\"\n",
    " \"in 45 BC. This book is a treatise on the theory of ethics, very popular during the Renaissance. \"\n",
    "\"The first line of Lorem Ipsum, Lorem ipsum dolor sit amet..\"\n",
    "\", comes from a line in section 1.10.32.The standard chunk of Lorem Ipsum used since the 1500s\"\n",
    "\"is reproduced below for those interested. Sections 1.10.32 and 1.10.33 from de Finibus Bonorum et Malorum\"\n",
    "\"by Cicero are also reproduced in their exact original form, accompanied by English versions from the 1914\"\n",
    "\"translation by H. Rackham.\")\n",
    "\n",
    "############################################################################################\n",
    "#TASK1: Make the string longer by multiplying it with bigger numbers instead of 10 \n",
    "#observe the increase in execution time of code below\n",
    "############################################################################################\n",
    "\n",
    "longstring = s*10\n",
    "#longstring = s*100000\n",
    "\n",
    "\n",
    "start = time.process_time()\n",
    "sl = list(longstring)\n",
    "for i in range(len(sl)):\n",
    "    dummylen = len(sl)\n",
    "    if (sl[i] >= 'A' and sl[i] <= 'Z'):\n",
    "        sl[i] = \"--\"\n",
    "\"\".join(sl)\n",
    "elapsed = (time.process_time() - start)\n",
    "\n",
    "print(elapsed)\n",
    "\n",
    "\n",
    "\n",
    "\n",
    "############################################################################################\n",
    "#TASK2:Reduce the excution time by \"moving code\" which does not need to be in the loop\n",
    "#Observe the difference in time for large strings.\n",
    "############################################################################################\n"
   ]
  },
  {
   "cell_type": "code",
   "execution_count": 24,
   "metadata": {},
   "outputs": [
    {
     "name": "stdout",
     "output_type": "stream",
     "text": [
      "0.007133555000000236\n"
     ]
    }
   ],
   "source": [
    "############################################################################################\n",
    "#SOLUTION to TASK2\n",
    "############################################################################################\n",
    "\n",
    "start = time.process_time()\n",
    "sl = list(longstring)\n",
    "dummylen = len(sl)\n",
    "\n",
    "for i in range(len(sl)):\n",
    "\n",
    "    if (sl[i] >= 'A' and sl[i] <= 'Z'):\n",
    "        sl[i] = \"--\"\n",
    "\n",
    "\"\".join(sl)\n",
    "\n",
    "elapsed = (time.process_time() - start)\n",
    "print(elapsed)\n"
   ]
  },
  {
   "cell_type": "code",
   "execution_count": 25,
   "metadata": {},
   "outputs": [
    {
     "name": "stdout",
     "output_type": "stream",
     "text": [
      "Counts 50\n",
      "0.02331115900000036\n"
     ]
    }
   ],
   "source": [
    "\n",
    "\n",
    "############################################################################################\n",
    "#TASK1: REPEAT:  Make the string longer by multiplying it with bigger numbers instead of 50 \n",
    "#observe the increase in execution time of code below\n",
    "############################################################################################\n",
    "\n",
    "longstring = s*50\n",
    "#longstring = s*50000\n",
    "\n",
    "start = time.process_time()\n",
    "count = 0\n",
    "for i in range(len(longstring)):\n",
    "    if(i%len(s) == 0):\n",
    "        count += 1\n",
    "        \n",
    "print(\"Counts\",count)   \n",
    "elapsed = (time.process_time() - start)\n",
    "print(elapsed)\n",
    "\n",
    "\n",
    "##############################################################################################\n",
    "# The above code calculates the number of times original string was repeated in the longsting!\n",
    "#TASK3:Reduce the excution time by \"moving code\" which does not need to be in the loop\n",
    "#Observe the difference in time for large strings.\n",
    "##############################################################################################\n"
   ]
  },
  {
   "cell_type": "code",
   "execution_count": 26,
   "metadata": {},
   "outputs": [
    {
     "name": "stdout",
     "output_type": "stream",
     "text": [
      "Counts 50\n",
      "0.012942171000000169\n"
     ]
    }
   ],
   "source": [
    "############################################################################################\n",
    "#SOLUTION to TASK3\n",
    "############################################################################################\n",
    "\n",
    "\n",
    "start = time.process_time()\n",
    "count = 0\n",
    "origlen = len(s)\n",
    "for i in range(len(longstring)):\n",
    "    if(i%origlen == 0):\n",
    "        count += 1\n",
    "        \n",
    "print(\"Counts\",count)\n",
    "    \n",
    "elapsed = (time.process_time() - start)\n",
    "print(elapsed)\n"
   ]
  },
  {
   "cell_type": "code",
   "execution_count": 27,
   "metadata": {},
   "outputs": [
    {
     "name": "stdout",
     "output_type": "stream",
     "text": [
      "time: 0.010205505000000059\n"
     ]
    }
   ],
   "source": [
    "import time\n",
    "statement = \"what a wonderful world\"\n",
    "\n",
    "############################################################################################\n",
    "#TASK1: REPEAT:  Make the list larger by multiplying it with bigger numbers instead of 100\n",
    "#observe the increase in execution time of code below\n",
    "############################################################################################\n",
    "\n",
    "a = list(statement*100) \n",
    "#a = list(statement*1000000) \n",
    "\n",
    "b = [];\n",
    "start = time.process_time()\n",
    "for i in range(len(a)):\n",
    "    b.insert(i, a[i] + chr(ord(a[i])+1) + chr(ord(a[i])+2) + chr(ord(a[i])+3) + chr(ord(a[i])+4) + chr(ord(a[i])+5))\n",
    "    \n",
    "elapsed = (time.process_time() - start)\n",
    "print(\"time:\",elapsed)\n",
    "\n",
    "\n",
    "\n",
    "##############################################################################################\n",
    "#TASK4:Reduce the excution time by sub-expression elimination\n",
    "#Observe the difference in time for large strings.\n",
    "##############################################################################################\n"
   ]
  },
  {
   "cell_type": "code",
   "execution_count": 6,
   "metadata": {},
   "outputs": [
    {
     "name": "stdout",
     "output_type": "stream",
     "text": [
      "time: 0.011564230000000064\n"
     ]
    }
   ],
   "source": [
    "############################################################################################\n",
    "#SOLUTION to TASK4\n",
    "############################################################################################\n",
    "\n",
    "\n",
    "b = []\n",
    "start = time.process_time()\n",
    "\n",
    "for i in range(len(a)):\n",
    "    temp = ord(a[i])\n",
    "    b.insert(i, a[i] + chr(temp+1) + chr(temp+2) + chr(temp+3) + chr(temp+4) + chr(temp+5))\n",
    "    \n",
    "\n",
    "elapsed = (time.process_time() - start)\n",
    "print(\"time:\",elapsed)"
   ]
  },
  {
   "cell_type": "code",
   "execution_count": 7,
   "metadata": {},
   "outputs": [
    {
     "name": "stdout",
     "output_type": "stream",
     "text": [
      ":a: what a wonderful world \n",
      ":b: xibu!b!xpoefsgvm!xpsme\n",
      ":a: what a wonderful world \n",
      ":b: Update after this---xibu!b!xpoefsgvm!xpsme\n"
     ]
    }
   ],
   "source": [
    "############################################################################################\n",
    "# MEMORY ALIASING PROBLEMS\n",
    "############################################################################################\n",
    "\n",
    "\n",
    "def plusone( a, b):\n",
    "    for i in range(len(a)):\n",
    "        b.append(chr(ord(a[i])+1))\n",
    "\n",
    "\n",
    "s = \"what a wonderful world\"\n",
    "a = list(s)\n",
    "\n",
    "b = []\n",
    "plusone(a,b)\n",
    "print(\":a:\",\"\".join(a),\"\\n:b:\",\"\".join(b))\n",
    "\n",
    "\n",
    "b = list(\"Update after this---\")\n",
    "plusone(a,b)\n",
    "\n",
    "print(\":a:\",\"\".join(a),\"\\n:b:\",\"\".join(b))\n",
    "\n",
    "\n",
    "\n",
    "#What if b = a?\n",
    "\n",
    "\n",
    "############################################################################################\n",
    "#TASK5: Check what happens when b = a\n",
    "#b = a\n",
    "#plusone(a,b) \n",
    "#print(\":a:\",\"\".join(a),\"\\n:b:\",\"\".join(b))\n",
    "\n",
    "############################################################################################\n",
    "\n",
    "\n",
    "############################################################################################\n",
    "#TASK6: Fix the code so it works for aliasing as well -\n",
    "#\"a\" should remain unchanged and \"b\" is updated/appended\n",
    "############################################################################################\n"
   ]
  },
  {
   "cell_type": "code",
   "execution_count": 8,
   "metadata": {},
   "outputs": [
    {
     "name": "stdout",
     "output_type": "stream",
     "text": [
      ":a: what a wonderful world \n",
      ":b: what a wonderful worldxibu!b!xpoefsgvm!xpsme\n"
     ]
    }
   ],
   "source": [
    "############################################################################################\n",
    "#SOLUTION to TASK6\n",
    "############################################################################################\n",
    "\n",
    "def plusonefixed( a, b):\n",
    "    temp = []\n",
    "    for i in range(len(a)):\n",
    "        temp.append(chr(ord(a[i])+1))\n",
    "    b = b + temp\n",
    "    return b # b is updated in - function. sp need to return it since original pointer is now updated.\n",
    "    \n",
    "s = \"what a wonderful world\"\n",
    "a = list(s)\n",
    "b = a\n",
    "b = plusonefixed(a,b)  #reassignment is important, since the reference to be in the function is considered local. \n",
    "\n",
    "print(\":a:\",\"\".join(a),\"\\n:b:\",\"\".join(b))\n"
   ]
  },
  {
   "cell_type": "code",
   "execution_count": 9,
   "metadata": {},
   "outputs": [
    {
     "ename": "NameError",
     "evalue": "name 'new' is not defined",
     "output_type": "error",
     "traceback": [
      "\u001b[0;31m---------------------------------------------------------------------------\u001b[0m",
      "\u001b[0;31mNameError\u001b[0m                                 Traceback (most recent call last)",
      "Input \u001b[0;32mIn [9]\u001b[0m, in \u001b[0;36m<cell line: 4>\u001b[0;34m()\u001b[0m\n\u001b[1;32m      2\u001b[0m a \u001b[38;5;241m=\u001b[39m \u001b[38;5;28mlist\u001b[39m(s)\n\u001b[1;32m      3\u001b[0m b \u001b[38;5;241m=\u001b[39m []\n\u001b[0;32m----> 4\u001b[0m plusone(a,\u001b[43mnew\u001b[49m)  \n\u001b[1;32m      6\u001b[0m \u001b[38;5;28mprint\u001b[39m(\u001b[38;5;124m\"\u001b[39m\u001b[38;5;124m:a:\u001b[39m\u001b[38;5;124m\"\u001b[39m,\u001b[38;5;124m\"\u001b[39m\u001b[38;5;124m\"\u001b[39m\u001b[38;5;241m.\u001b[39mjoin(a),\u001b[38;5;124m\"\u001b[39m\u001b[38;5;130;01m\\n\u001b[39;00m\u001b[38;5;124m:b:\u001b[39m\u001b[38;5;124m\"\u001b[39m,\u001b[38;5;124m\"\u001b[39m\u001b[38;5;124m\"\u001b[39m\u001b[38;5;241m.\u001b[39mjoin(b))\n",
      "\u001b[0;31mNameError\u001b[0m: name 'new' is not defined"
     ]
    }
   ],
   "source": [
    "\n",
    "\n",
    "s = \"what a wonderful world\"\n",
    "a = list(s)\n",
    "b = []\n",
    "plusone(a,new)  \n",
    "\n",
    "print(\":a:\",\"\".join(a),\"\\n:b:\",\"\".join(b))\n",
    "\n",
    "\n",
    "############################################################################################\n",
    "#TASK7: The code above will throw a NameError. Handle the exception \n",
    "############################################################################################\n",
    "\n"
   ]
  },
  {
   "cell_type": "code",
   "execution_count": 10,
   "metadata": {},
   "outputs": [
    {
     "name": "stdout",
     "output_type": "stream",
     "text": [
      "Error Caught\n",
      ":a: what a wonderful world \n",
      ":b: xibu!b!xpoefsgvm!xpsme\n"
     ]
    }
   ],
   "source": [
    "############################################################################################\n",
    "#SOLUTION to TASK7\n",
    "############################################################################################\n",
    " \n",
    "s = \"what a wonderful world\"\n",
    "a = list(s)\n",
    "b = []\n",
    "\n",
    "try:\n",
    "    plusone(a,new)  \n",
    "    pass\n",
    "except:\n",
    "    print(\"Error Caught\")\n",
    "    plusone(a,b)\n",
    "    pass\n",
    "finally:\n",
    "    print(\":a:\",\"\".join(a),\"\\n:b:\",\"\".join(b))\n",
    "\n",
    "\n",
    "############################################################################################\n",
    "#TASK8: Raise an error when b is empty list. \n",
    "#\"b\" should have atleast 1 character at the beginning\n",
    "############################################################################################\n"
   ]
  },
  {
   "cell_type": "code",
   "execution_count": 11,
   "metadata": {},
   "outputs": [
    {
     "name": "stdout",
     "output_type": "stream",
     "text": [
      "Error Caught Length of b is ZERO\n",
      ":a: what a wonderful world \n",
      ":b: >>xibu!b!xpoefsgvm!xpsme\n"
     ]
    }
   ],
   "source": [
    "############################################################################################\n",
    "#SOLUTION to TASK8\n",
    "############################################################################################\n",
    " \n",
    "s = \"what a wonderful world\"\n",
    "a = list(s)\n",
    "b = []\n",
    "\n",
    "try:\n",
    "    if(len(b) == 0):\n",
    "        raise Exception(\"Length of b is ZERO\")\n",
    "    plusone(a,b)  \n",
    "    pass\n",
    "except Exception as e:\n",
    "    print(\"Error Caught\",e)\n",
    "    b = list(\">>\")\n",
    "    plusone(a,b)\n",
    "    pass\n",
    "finally:\n",
    "    print(\":a:\",\"\".join(a),\"\\n:b:\",\"\".join(b))\n"
   ]
  },
  {
   "cell_type": "code",
   "execution_count": null,
   "metadata": {},
   "outputs": [],
   "source": []
  }
 ],
 "metadata": {
  "kernelspec": {
   "display_name": "Python 3",
   "language": "python",
   "name": "python3"
  },
  "language_info": {
   "codemirror_mode": {
    "name": "ipython",
    "version": 3
   },
   "file_extension": ".py",
   "mimetype": "text/x-python",
   "name": "python",
   "nbconvert_exporter": "python",
   "pygments_lexer": "ipython3",
   "version": "3.8.10"
  }
 },
 "nbformat": 4,
 "nbformat_minor": 5
}
