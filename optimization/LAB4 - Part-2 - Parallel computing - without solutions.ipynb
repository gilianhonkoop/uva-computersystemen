{
 "cells": [
  {
   "cell_type": "code",
   "execution_count": 18,
   "metadata": {},
   "outputs": [],
   "source": [
    "#TASK 1 \n",
    "#Use Threads to create an image download server \n",
    "#Use this URL - https://source.unsplash.com/user/c_v_r/200x200\n",
    "#to download 500 random images \n",
    "#Use atleast 3 (or more) threads to perform the download operation in parallel. \n",
    "#It is okay to replace the image (with same filename)\n",
    "\n",
    "import requests\n",
    "\n",
    "\n",
    "def download_img(img_url: str):\n",
    "    \n",
    "    for _ in range(5):\n",
    "        # creating threads\n",
    "        t1 = threading.Thread(target=download_thread, args=(img_url,))\n",
    "        t2 = threading.Thread(target=download_thread, args=(img_url,))\n",
    "        t3 = threading.Thread(target=download_thread, args=(img_url,))\n",
    "        t4 = threading.Thread(target=download_thread, args=(img_url,))\n",
    "\n",
    "        # start threads\n",
    "        t1.start()\n",
    "        t2.start()\n",
    "        t3.start()\n",
    "        t4.start()\n",
    "\n",
    "        # wait until threads finish their job\n",
    "        t1.join()\n",
    "        t2.join()\n",
    "        t3.join()\n",
    "        t4.join()\n",
    "\n",
    "def download_thread(img_url : str):\n",
    "    \n",
    "    res = requests.get(img_url, stream=True)\n",
    "   \n",
    "    filename = \"./folder/abc.jpg\" #OR \"./foldername/abc.jpg\" You can also make a folder and save images in the folder\n",
    "\n",
    "    with open(filename, 'wb') as f:\n",
    "        for block in res.iter_content(1024):\n",
    "            f.write(block)\n",
    "            \n",
    "download_img(\"https://source.unsplash.com/user/c_v_r/200x200\")\n"
   ]
  },
  {
   "cell_type": "code",
   "execution_count": null,
   "metadata": {
    "collapsed": true
   },
   "outputs": [],
   "source": [
    "#TASK 2\n",
    "#Use a \"counter\" which is accessed with locks to get the image-number\n",
    "#This way all downloaded images have a unique number while saving\n",
    "#File names can now be \"img\" + counter + \".jpg\"\n"
   ]
  },
  {
   "cell_type": "code",
   "execution_count": null,
   "metadata": {},
   "outputs": [],
   "source": [
    "#TASK 3\n",
    "# Simulate a deadlock when one of the thread throws an error without releasing the lock\n",
    "\n",
    "#TASK 4\n",
    "#Remove the deadlock\n",
    "#Make sure all the lock accesses are within a \"try\" block.\n",
    "#all the locks should be released in \"finally\" block. "
   ]
  },
  {
   "cell_type": "code",
   "execution_count": null,
   "metadata": {},
   "outputs": [],
   "source": [
    "#Task 5\n",
    "# Re-write the code with process instead.\n",
    "#Observe which parts remain same.\n",
    "#specially common data.\n"
   ]
  }
 ],
 "metadata": {
  "kernelspec": {
   "display_name": "Python 3",
   "language": "python",
   "name": "python3"
  },
  "language_info": {
   "codemirror_mode": {
    "name": "ipython",
    "version": 3
   },
   "file_extension": ".py",
   "mimetype": "text/x-python",
   "name": "python",
   "nbconvert_exporter": "python",
   "pygments_lexer": "ipython3",
   "version": "3.8.10"
  }
 },
 "nbformat": 4,
 "nbformat_minor": 5
}
