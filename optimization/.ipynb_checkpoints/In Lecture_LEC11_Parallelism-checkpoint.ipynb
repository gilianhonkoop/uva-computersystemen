{
 "cells": [
  {
   "cell_type": "code",
   "execution_count": null,
   "metadata": {},
   "outputs": [],
   "source": [
    "#perform INLINING - from QUIZ on lec-10\n",
    "\n",
    "def pred(x):\n",
    "    if (x == 0):\n",
    "        return 0\n",
    "    else:\n",
    "        return x - 1 \n",
    "\n",
    "def main_func(y):\n",
    "    return pred(y) + pred(0) + pred(y+1) \n"
   ]
  },
  {
   "cell_type": "code",
   "execution_count": null,
   "metadata": {},
   "outputs": [],
   "source": [
    "def main_func(y):\n",
    "    tmp = 0\n",
    "    \n",
    "    if (y != 0):\n",
    "        tmp = tmp + y - 1  \n",
    "\n",
    "    if (y != -1)\n",
    "         tmp = tmp + y \n",
    "    \n",
    "    return tmp\n",
    "\n"
   ]
  },
  {
   "cell_type": "code",
   "execution_count": 1,
   "metadata": {},
   "outputs": [
    {
     "name": "stdout",
     "output_type": "stream",
     "text": [
      "Thread task done\n",
      "\n",
      "Thread task done\n",
      "\n",
      "Main task done, x =  13068128\n"
     ]
    }
   ],
   "source": [
    "#THREADs example\n",
    "\n",
    "import time\n",
    "import threading\n",
    "  \n",
    "# global variable x\n",
    "x = 0\n",
    "    \n",
    "  \n",
    "def thread_task():\n",
    "    global x\n",
    "    for _ in range(10000000): \n",
    "        x += 1\n",
    "    print(\"Thread task done\\n\") \n",
    "    \n",
    "    \n",
    "def main_task():\n",
    "    global x\n",
    "    x = 0\n",
    "  \n",
    "    # creating threads\n",
    "    t1 = threading.Thread(target=thread_task)\n",
    "    t2 = threading.Thread(target=thread_task)\n",
    "    \n",
    "    \n",
    "    # start threads\n",
    "    t1.start()\n",
    "    t2.start()\n",
    "   \n",
    "    # wait until threads finish their job\n",
    "    t1.join()\n",
    "    t2.join()\n",
    "    \n",
    "    print(\"Main task done, x = \",x)\n",
    "  \n",
    "\n",
    "main_task()\n",
    "   \n"
   ]
  },
  {
   "cell_type": "code",
   "execution_count": 148,
   "metadata": {
    "scrolled": true
   },
   "outputs": [
    {
     "name": "stdout",
     "output_type": "stream",
     "text": [
      "Iteration 0: x = 20000000\n",
      "Iteration 1: x = 20000000\n",
      "Iteration 2: x = 20000000\n",
      "Iteration 3: x = 20000000\n",
      "Iteration 4: x = 20000000\n",
      "Iteration 5: x = 20000000\n",
      "Iteration 6: x = 20000000\n",
      "Iteration 7: x = 20000000\n",
      "Iteration 8: x = 20000000\n",
      "Iteration 9: x = 20000000\n"
     ]
    }
   ],
   "source": []
  },
  {
   "cell_type": "code",
   "execution_count": null,
   "metadata": {},
   "outputs": [],
   "source": []
  },
  {
   "cell_type": "code",
   "execution_count": 2,
   "metadata": {},
   "outputs": [],
   "source": [
    "# RACE-CONDITION\n",
    "import multiprocess\n",
    "  \n",
    "# function to withdraw from account\n",
    "def withdraw(balance):    \n",
    "    for _ in range(10000):\n",
    "        balance.value = balance.value - 1\n",
    "  \n",
    "# function to deposit to account\n",
    "def deposit(balance):    \n",
    "    for _ in range(10000):\n",
    "        balance.value = balance.value + 1\n",
    "        \n",
    "def perform_transactions(initial_balance):\n",
    "  \n",
    "    # initial balance (in shared memory)\n",
    "    balance = multiprocess.Value('i', initial_balance)\n",
    "  \n",
    "    # creating new processes\n",
    "    p1 = multiprocess.Process(target=withdraw, args=(balance,))\n",
    "    p2 = multiprocess.Process(target=deposit, args=(balance,))\n",
    "  \n",
    "    # starting processes\n",
    "    p1.start()\n",
    "    p2.start()\n",
    "  \n",
    "    # wait until processes are finished\n",
    "    p1.join()\n",
    "    p2.join()\n",
    "  \n",
    "    # print final balance\n",
    "    print(\"Final balance = {}\".format(balance.value))\n",
    "\n",
    "\n",
    "\n"
   ]
  },
  {
   "cell_type": "code",
   "execution_count": 3,
   "metadata": {},
   "outputs": [
    {
     "name": "stdout",
     "output_type": "stream",
     "text": [
      "Final balance = 813\n",
      "Final balance = 1986\n",
      "Final balance = 455\n",
      "Final balance = 542\n",
      "Final balance = 1486\n"
     ]
    }
   ],
   "source": [
    "perform_transactions(1000)\n",
    "\n",
    "perform_transactions(1000)\n",
    "\n",
    "perform_transactions(1000)\n",
    "\n",
    "perform_transactions(1000)\n",
    "\n",
    "perform_transactions(1000)"
   ]
  },
  {
   "cell_type": "code",
   "execution_count": 12,
   "metadata": {},
   "outputs": [],
   "source": [
    "#LOCK\n",
    "\n",
    "import multiprocess\n",
    "  \n",
    "# function to withdraw from account\n",
    "def withdraw(balance,lock):    \n",
    "    for _ in range(10000):\n",
    "       \n",
    "        balance.value = balance.value - 1\n",
    "        \n",
    "  \n",
    "# function to deposit to account\n",
    "def deposit(balance,lock):    \n",
    "    for _ in range(10000):\n",
    "        \n",
    "        balance.value = balance.value + 1\n",
    "        \n",
    "        \n",
    "def perform_transactions(initial_balance):\n",
    "  \n",
    "    # initial balance (in shared memory)\n",
    "    balance = multiprocess.Value('i', initial_balance)\n",
    "  \n",
    "    lock = multiprocess.Lock()\n",
    "    lock.acquire()\n",
    "\n",
    "    # creating new processes\n",
    "    p1 = multiprocess.Process(target=withdraw, args=(balance,lock,))\n",
    "    \n",
    "    lock.release()\n",
    "    \n",
    "    p2 = multiprocess.Process(target=deposit, args=(balance,lock,))\n",
    "  \n",
    "    # starting processes\n",
    "    p1.start()\n",
    "    p2.start()\n",
    "  \n",
    "    # wait until processes are finished\n",
    "    p1.join()\n",
    "    p2.join()\n",
    "  \n",
    "    # print final balance\n",
    "    print(\"Final balance = {}\".format(balance.value))\n"
   ]
  },
  {
   "cell_type": "code",
   "execution_count": 13,
   "metadata": {},
   "outputs": [
    {
     "name": "stdout",
     "output_type": "stream",
     "text": [
      "Final balance = 1002\n",
      "Final balance = 101\n",
      "Final balance = 982\n",
      "Final balance = 1000\n",
      "Final balance = 1218\n"
     ]
    }
   ],
   "source": [
    "\n",
    "perform_transactions(1000)\n",
    "\n",
    "perform_transactions(1000)\n",
    "\n",
    "perform_transactions(1000)\n",
    "\n",
    "perform_transactions(1000)\n",
    "\n",
    "perform_transactions(1000)"
   ]
  },
  {
   "cell_type": "code",
   "execution_count": null,
   "metadata": {},
   "outputs": [],
   "source": []
  }
 ],
 "metadata": {
  "kernelspec": {
   "display_name": "Python 3",
   "language": "python",
   "name": "python3"
  },
  "language_info": {
   "codemirror_mode": {
    "name": "ipython",
    "version": 3
   },
   "file_extension": ".py",
   "mimetype": "text/x-python",
   "name": "python",
   "nbconvert_exporter": "python",
   "pygments_lexer": "ipython3",
   "version": "3.8.10"
  }
 },
 "nbformat": 4,
 "nbformat_minor": 5
}
