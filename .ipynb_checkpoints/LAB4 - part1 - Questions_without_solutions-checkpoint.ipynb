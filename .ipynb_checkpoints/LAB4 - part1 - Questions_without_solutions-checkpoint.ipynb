{
 "cells": [
  {
   "cell_type": "code",
   "execution_count": 2,
   "metadata": {},
   "outputs": [
    {
     "name": "stdout",
     "output_type": "stream",
     "text": [
      "0.003649663000000025\n"
     ]
    }
   ],
   "source": [
    "import time\n",
    "\n",
    "\n",
    "s = (\"Hello World!! IEWFContrary to popular belief, Lorem Ipsum is not simply random text. It has roots in\"\n",
    "\"a piece of classical Latin literature from 45 BC, making it over 2000 years old. Richard McClintock, \"\n",
    "\"a Latin professor at Hampden-Sydney College in Virginia, looked up one of the more obscure Latin words,\"\n",
    "\" consectetur, from a Lorem Ipsum passage, and going through the cites of the word in classical literature,\"\n",
    "\"discovered the undoubtable source. Lorem Ipsum comes from sections 1.10.32 and 1.10.33 of de Finibus Bonorum\"\n",
    "\"et Malorum (The Extremes of Good and Evil) by Cicero, written\"\n",
    " \"in 45 BC. This book is a treatise on the theory of ethics, very popular during the Renaissance. \"\n",
    "\"The first line of Lorem Ipsum, Lorem ipsum dolor sit amet..\"\n",
    "\", comes from a line in section 1.10.32.The standard chunk of Lorem Ipsum used since the 1500s\"\n",
    "\"is reproduced below for those interested. Sections 1.10.32 and 1.10.33 from de Finibus Bonorum et Malorum\"\n",
    "\"by Cicero are also reproduced in their exact original form, accompanied by English versions from the 1914\"\n",
    "\"translation by H. Rackham.\")\n",
    "\n",
    "############################################################################################\n",
    "#TASK1: Make the string longer by multiplying it with bigger numbers instead of 10 \n",
    "#observe the increase in execution time of code below\n",
    "############################################################################################\n",
    "\n",
    "longstring = s*10\n",
    "#longstring = s*100000\n",
    "\n",
    "\n",
    "start = time.process_time()\n",
    "sl = list(longstring)\n",
    "\n",
    "dummylen = len(sl)\n",
    "\n",
    "for i in range(len(sl)):\n",
    "    if (sl[i] >= 'A' and sl[i] <= 'Z'):\n",
    "        sl[i] = \"--\"\n",
    "\"\".join(sl)\n",
    "elapsed = (time.process_time() - start)\n",
    "\n",
    "print(elapsed)\n",
    "\n",
    "\n",
    "############################################################################################\n",
    "#TASK2:Reduce the excution time by \"moving code\" which does not need to be in the loop\n",
    "#Observe the difference in time for large strings.\n",
    "############################################################################################\n"
   ]
  },
  {
   "cell_type": "code",
   "execution_count": 3,
   "metadata": {},
   "outputs": [],
   "source": [
    "############################################################################################\n",
    "#SOLUTION to TASK2\n",
    "############################################################################################\n",
    "\n"
   ]
  },
  {
   "cell_type": "code",
   "execution_count": 6,
   "metadata": {},
   "outputs": [
    {
     "name": "stdout",
     "output_type": "stream",
     "text": [
      "time: 0.003349939000000024\n"
     ]
    }
   ],
   "source": [
    "import time\n",
    "statement = \"what a wonderful world\"\n",
    "\n",
    "############################################################################################\n",
    "#TASK1: REPEAT:  Make the list larger by multiplying it with bigger numbers instead of 100\n",
    "#observe the increase in execution time of code below\n",
    "############################################################################################\n",
    "\n",
    "a = list(statement*100) \n",
    "#a = list(statement*1000000) \n",
    "\n",
    "b = [];\n",
    "start = time.process_time()\n",
    "for i in range(len(a)):\n",
    "    num = a[i]\n",
    "    od = ord(num)\n",
    "    b.insert(i, num + chr(od+1) + chr(od+2) + chr(od+3) + chr(od+4) + chr(od+5))\n",
    "    \n",
    "elapsed = (time.process_time() - start)\n",
    "print(\"time:\",elapsed)\n",
    "\n",
    "\n",
    "\n",
    "##############################################################################################\n",
    "#TASK3:Reduce the excution time by sub-expression elimination\n",
    "#Observe the difference in time for large strings.\n",
    "##############################################################################################\n"
   ]
  },
  {
   "cell_type": "code",
   "execution_count": null,
   "metadata": {},
   "outputs": [],
   "source": [
    "############################################################################################\n",
    "#SOLUTION to TASK3\n",
    "############################################################################################\n"
   ]
  },
  {
   "cell_type": "code",
   "execution_count": 14,
   "metadata": {},
   "outputs": [
    {
     "name": "stdout",
     "output_type": "stream",
     "text": [
      ":a: what a wonderful world \n",
      ":b: xibu!b!xpoefsgvm!xpsme\n",
      ":a: what a wonderful world \n",
      ":b: Update after this---xibu!b!xpoefsgvm!xpsme\n",
      ":a: what a wonderful world \n",
      ":b: what a wonderful worldxibu!b!xpoefsgvm!xpsme\n"
     ]
    }
   ],
   "source": [
    "############################################################################################\n",
    "# MEMORY ALIASING PROBLEMS\n",
    "############################################################################################\n",
    "\n",
    "\n",
    "def plusone( a, b):\n",
    "    for i in range(len(a)):\n",
    "        b.append(chr(ord(a[i])+1))\n",
    "\n",
    "\n",
    "s = \"what a wonderful world\"\n",
    "a = list(s)\n",
    "\n",
    "b = []\n",
    "plusone(a,b)\n",
    "print(\":a:\",\"\".join(a),\"\\n:b:\",\"\".join(b))\n",
    "\n",
    "\n",
    "b = list(\"Update after this---\")\n",
    "plusone(a,b)\n",
    "\n",
    "print(\":a:\",\"\".join(a),\"\\n:b:\",\"\".join(b))\n",
    "\n",
    "\n",
    "\n",
    "#What if b = a?\n",
    "\n",
    "\n",
    "############################################################################################\n",
    "#TASK4: Check what happens when b = a\n",
    "b = a.copy()\n",
    "plusone(a,b) \n",
    "print(\":a:\",\"\".join(a),\"\\n:b:\",\"\".join(b))\n",
    "\n",
    "############################################################################################\n",
    "\n",
    "\n",
    "############################################################################################\n",
    "#TASK5: Fix the code so it works for aliasing as well -\n",
    "#\"a\" should remain unchanged and \"b\" is updated/appended\n",
    "############################################################################################\n"
   ]
  },
  {
   "cell_type": "code",
   "execution_count": null,
   "metadata": {},
   "outputs": [],
   "source": [
    "############################################################################################\n",
    "#SOLUTION to TASK5\n",
    "############################################################################################\n"
   ]
  },
  {
   "cell_type": "code",
   "execution_count": 18,
   "metadata": {},
   "outputs": [
    {
     "name": "stdout",
     "output_type": "stream",
     "text": [
      "name error\n"
     ]
    }
   ],
   "source": [
    "\n",
    "\n",
    "s = \"what a wonderful world\"\n",
    "a = list(s)\n",
    "b = []\n",
    "\n",
    "try:\n",
    "    plusone(a,new)  \n",
    "    print(\":a:\",\"\".join(a),\"\\n:b:\",\"\".join(b))\n",
    "except NameError:\n",
    "    print(\"name error\")\n",
    "\n",
    "\n",
    "\n",
    "############################################################################################\n",
    "#TASK6: The code above will throw a NameError. Handle the exception \n",
    "############################################################################################\n",
    "\n"
   ]
  },
  {
   "cell_type": "code",
   "execution_count": 19,
   "metadata": {},
   "outputs": [],
   "source": [
    "############################################################################################\n",
    "#SOLUTION to TASK6\n",
    "############################################################################################\n",
    "\n",
    "try\n",
    "    b == []\n",
    "    print(\"Error Caught Lenght of b is ZERO\")\n",
    "except\n",
    "    print(\":a:\",\"\".join(a),\"\\n:b:\",\"\".join(b))\n",
    "    \n",
    "############################################################################################\n",
    "#TASK7: Raise an error when b is empty list. \n",
    "#\"b\" should have atleast 1 character at the beginning\n",
    "############################################################################################\n"
   ]
  },
  {
   "cell_type": "code",
   "execution_count": 15,
   "metadata": {
    "scrolled": true
   },
   "outputs": [
    {
     "name": "stdout",
     "output_type": "stream",
     "text": [
      "Error Caught Length of b is ZERO\n",
      ":a: what a wonderful world \n",
      ":b: >>xibu!b!xpoefsgvm!xpsme\n"
     ]
    }
   ],
   "source": [
    "############################################################################################\n",
    "#SOLUTION to TASK7\n",
    "############################################################################################\n"
   ]
  }
 ],
 "metadata": {
  "kernelspec": {
   "display_name": "Python 3",
   "language": "python",
   "name": "python3"
  },
  "language_info": {
   "codemirror_mode": {
    "name": "ipython",
    "version": 3
   },
   "file_extension": ".py",
   "mimetype": "text/x-python",
   "name": "python",
   "nbconvert_exporter": "python",
   "pygments_lexer": "ipython3",
   "version": "3.8.10"
  }
 },
 "nbformat": 4,
 "nbformat_minor": 5
}
